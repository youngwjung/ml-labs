{
 "cells": [
  {
   "cell_type": "markdown",
   "id": "feb075da",
   "metadata": {},
   "source": [
    "# 상품 추천 시스템\n",
    "### Amazon SageMaker로 개인화 추천 시스템 구축 및 배포 실습"
   ]
  },
  {
   "cell_type": "markdown",
   "id": "1700877a",
   "metadata": {},
   "source": [
    "코드 구동에 필요한 라이브러리 불러오기"
   ]
  },
  {
   "cell_type": "code",
   "execution_count": null,
   "id": "a0f5c3b5",
   "metadata": {},
   "outputs": [],
   "source": [
    "import numpy as np \n",
    "import pandas as pd \n",
    "import matplotlib.pyplot as plt\n",
    "import time\n",
    "\n",
    "import boto3\n",
    "import sagemaker\n",
    "import sagemaker.amazon.common as smac\n",
    "\n",
    "from scipy.sparse import csr_matrix, hstack, save_npz, load_npz\n",
    "from sklearn.preprocessing import OneHotEncoder\n",
    "from sklearn.feature_extraction.text import TfidfVectorizer\n",
    "from sklearn.model_selection import train_test_split\n",
    "\n",
    "pd.set_option('display.max_columns', 50)\n",
    "pd.set_option('max_colwidth', 50)  # default is 50"
   ]
  },
  {
   "cell_type": "code",
   "execution_count": null,
   "id": "fb65b0ef",
   "metadata": {},
   "outputs": [],
   "source": [
    "region = boto3.Session().region_name\n",
    "boto3.setup_default_session(region_name=region)\n",
    "boto_session = boto3.Session(region_name=region)\n",
    "\n",
    "s3_client = boto3.client(\"s3\", region_name=region)\n",
    "\n",
    "sagemaker_boto_client = boto_session.client(\"sagemaker\")\n",
    "sagemaker_session = sagemaker.session.Session(\n",
    "    boto_session=boto_session, sagemaker_client=sagemaker_boto_client\n",
    ")\n",
    "sagemaker_role = sagemaker.get_execution_role()\n",
    "\n",
    "bucket = sagemaker_session.default_bucket()\n",
    "print(f\"using bucket{bucket} in region {region} \\n\")"
   ]
  },
  {
   "cell_type": "markdown",
   "id": "87ace675",
   "metadata": {},
   "source": [
    "## 데이터 불러오기\n",
    "[Amazon Customer Review Dataset](https://s3.amazonaws.com/amazon-reviews-pds/readme.html)\n",
    "<br>\n",
    "해당 실습에서는 모바일기기 카테고리의 리뷰데이터를 이용해서 모델을 생성. 전체 데이터 목록은 해당 [버킷](https://s3.console.aws.amazon.com/s3/buckets/amazon-reviews-pds?region=us-east-1&tab=objects)에서 확인 가능"
   ]
  },
  {
   "cell_type": "code",
   "execution_count": null,
   "id": "fedcff37",
   "metadata": {},
   "outputs": [],
   "source": [
    "# 파일 다운로드\n",
    "!wget -c https://amazon-reviews-pds.s3.amazonaws.com/tsv/amazon_reviews_us_Mobile_Electronics_v1_00.tsv.gz\n",
    "!wget -c https://amazon-reviews-pds.s3.amazonaws.com/tsv/amazon_reviews_us_Software_v1_00.tsv.gz"
   ]
  },
  {
   "cell_type": "code",
   "execution_count": null,
   "id": "c866e04a",
   "metadata": {},
   "outputs": [],
   "source": [
    "# 파일이 정상적으로 다운로드 됐는지 확인\n",
    "!ls"
   ]
  },
  {
   "cell_type": "code",
   "execution_count": null,
   "id": "91726738",
   "metadata": {},
   "outputs": [],
   "source": [
    "# 다운받은 CSV 파일을 Pandas의 DataFrame으로 불러오기\n",
    "df_mobile = pd.read_csv(\"amazon_reviews_us_Mobile_Electronics_v1_00.tsv.gz\", compression='gzip',\n",
    "                    sep=\"\\t\", usecols=range(0, 15))\n",
    "df_sw = pd.read_csv(\"amazon_reviews_us_Software_v1_00.tsv.gz\", compression='gzip',\n",
    "                    sep=\"\\t\", usecols=range(0, 15))\n",
    "df = pd.concat([df_mobile, df_sw], axis=0)"
   ]
  },
  {
   "cell_type": "code",
   "execution_count": null,
   "id": "8c3ba707",
   "metadata": {},
   "outputs": [],
   "source": [
    "# 데이터 갯수 확인 밑 데이터 미리보기\n",
    "print(\"Total records:\", df.shape[0], \"\\n\")\n",
    "print(\"Sample records:\\n\")\n",
    "df.sample(5)"
   ]
  },
  {
   "cell_type": "code",
   "execution_count": null,
   "id": "612caa12",
   "metadata": {},
   "outputs": [],
   "source": [
    "# DataFrame 정보 확인\n",
    "df.info()"
   ]
  },
  {
   "cell_type": "markdown",
   "id": "0ea342ac",
   "metadata": {},
   "source": [
    "## 데이터 전처리"
   ]
  },
  {
   "cell_type": "markdown",
   "id": "6556eef3",
   "metadata": {},
   "source": [
    "### 중복된 데이터 확인\n",
    "구매자가 동일한 물품을 여러번 구매하고 다수의 리뷰를 남겼을 경우 혹은 물품을 한번 구매했지만 다수의 리뷰를 남길 경우"
   ]
  },
  {
   "cell_type": "code",
   "execution_count": null,
   "id": "1836ecaf",
   "metadata": {},
   "outputs": [],
   "source": [
    "duplicates = df.groupby([\"customer_id\",\"product_id\", \"product_title\", \"product_category\"]).nunique()[\"review_id\"]\n",
    "duplicates = duplicates.loc[duplicates > 1].reset_index().rename(columns={'review_id': 'unique_reviews'})\n",
    "print(\"Number of records with duplicates:\", duplicates.shape[0], \"\\n\")\n",
    "duplicates"
   ]
  },
  {
   "cell_type": "code",
   "execution_count": null,
   "id": "7dea43cf",
   "metadata": {},
   "outputs": [],
   "source": [
    "# 한명의 구매자가 동일한 품목에 대해서 다수의 리뷰를 남긴 경우\n",
    "df.loc[(df[\"customer_id\"]==53086549) & (df[\"product_id\"]==\"B0000E6NKA\")]"
   ]
  },
  {
   "cell_type": "code",
   "execution_count": null,
   "id": "5faf4199",
   "metadata": {},
   "outputs": [],
   "source": [
    "# 레코드들을 구매자번호, 상품번호, 리뷰작성날짜로 정렬\n",
    "df.sort_values(by=['customer_id', 'product_id', 'review_date'], inplace=True)\n",
    "df.loc[(df[\"customer_id\"]==53086549) & (df[\"product_id\"]==\"B0000E6NKA\")]"
   ]
  },
  {
   "cell_type": "code",
   "execution_count": null,
   "id": "141ea065",
   "metadata": {},
   "outputs": [],
   "source": [
    "# 한명의 구매자가 동일한 품목에 대해서 다수의 리뷰를 남긴 경우, 가장 최근 리뷰만 남기고 삭제\n",
    "df.drop_duplicates(['customer_id', 'product_id'], keep='last', inplace=True)\n",
    "\n",
    "print(\"Dataset after dropping duplicates, number of rows and columns:\", df.shape, \"\\n\")"
   ]
  },
  {
   "cell_type": "code",
   "execution_count": null,
   "id": "7c3c38e0",
   "metadata": {},
   "outputs": [],
   "source": [
    "# 위에서 확인한 중복 리뷰가 삭제됬는지 확인\n",
    "df.loc[(df[\"customer_id\"]==53086549) & (df[\"product_id\"]==\"B0000E6NKA\")]"
   ]
  },
  {
   "cell_type": "markdown",
   "id": "2a8e7ef3",
   "metadata": {},
   "source": [
    "### 결측값(Missing values) 확인\n",
    "특정 필드에 값이 들어가지 않을 경우"
   ]
  },
  {
   "cell_type": "code",
   "execution_count": null,
   "id": "1b242e3a",
   "metadata": {},
   "outputs": [],
   "source": [
    "df.isna().sum()"
   ]
  },
  {
   "cell_type": "code",
   "execution_count": null,
   "id": "be2b7751",
   "metadata": {},
   "outputs": [],
   "source": [
    "# 별점값이 누락된 레코드들을 삭제\n",
    "df.dropna(axis=0, subset=[\"star_rating\"], inplace=True) "
   ]
  },
  {
   "cell_type": "code",
   "execution_count": null,
   "id": "05834e7a",
   "metadata": {},
   "outputs": [],
   "source": [
    "# 별점값이 누락된 레코드가 있는지 확인 \n",
    "df['star_rating'].isna().sum()"
   ]
  },
  {
   "cell_type": "markdown",
   "id": "896b2fb6",
   "metadata": {},
   "source": [
    "### 유의미한 데이터 확인\n",
    "실제 구매후 작성된 리뷰인지 확인"
   ]
  },
  {
   "cell_type": "code",
   "execution_count": null,
   "id": "9d4318ee",
   "metadata": {},
   "outputs": [],
   "source": [
    "# 구매 확인이 되지 않은 리뷰 확인\n",
    "df[df[\"verified_purchase\"]==\"N\"]"
   ]
  },
  {
   "cell_type": "code",
   "execution_count": null,
   "id": "cf20853e",
   "metadata": {},
   "outputs": [],
   "source": [
    "# 실구매 확인되지 않은 리뷰 삭제 \n",
    "df = df[df[\"verified_purchase\"]==\"Y\"]"
   ]
  },
  {
   "cell_type": "markdown",
   "id": "742c0d7c",
   "metadata": {},
   "source": [
    "### 모델 생성 불필요한 필드 삭제"
   ]
  },
  {
   "cell_type": "code",
   "execution_count": null,
   "id": "a130969c",
   "metadata": {},
   "outputs": [],
   "source": [
    "# 구매자번호, 상품번호, 상품명, 상품분류, 별점만 데이터셋에 포함\n",
    "columns = [\"customer_id\", \"product_id\", \"product_title\", \"product_category\", \"star_rating\"]\n",
    "df = df[columns]"
   ]
  },
  {
   "cell_type": "code",
   "execution_count": null,
   "id": "401a3fad",
   "metadata": {},
   "outputs": [],
   "source": [
    "# DataFrame에 있는 행(Row)들을 무작위로 재정렬\n",
    "df = df.sample(frac=1, random_state=73)"
   ]
  },
  {
   "cell_type": "code",
   "execution_count": null,
   "id": "078dfee6",
   "metadata": {},
   "outputs": [],
   "source": [
    "# 전처리가 완료된 데이터셋에 결측값이 존재하는지 확인\n",
    "df.isna().sum()"
   ]
  },
  {
   "cell_type": "code",
   "execution_count": null,
   "id": "7a365d62",
   "metadata": {},
   "outputs": [],
   "source": [
    "# 전처리가 완료된 DataFrame 확인\n",
    "df.info()"
   ]
  },
  {
   "cell_type": "markdown",
   "id": "8dcc826f",
   "metadata": {},
   "source": [
    "## 탐색적 데이터 분석(Exploratory Data Analysis)"
   ]
  },
  {
   "cell_type": "markdown",
   "id": "f6e415b2",
   "metadata": {},
   "source": [
    "### 상품 카테고리 분포도"
   ]
  },
  {
   "cell_type": "code",
   "execution_count": null,
   "id": "494646eb",
   "metadata": {},
   "outputs": [],
   "source": [
    "# 상품 카테고리별 리뷰 갯수\n",
    "df['product_category'].value_counts()"
   ]
  },
  {
   "cell_type": "code",
   "execution_count": null,
   "id": "b953cd3e",
   "metadata": {},
   "outputs": [],
   "source": [
    "# 상품 카테코리별 리뷰 갯수를 Bar 차트로 표현 \n",
    "plt.style.use('fivethirtyeight')\n",
    "df['product_category'].value_counts().sort_index().plot.bar(rot=0,\n",
    "                                                            title=\"Product Category\"\n",
    "                                                           )\n",
    "plt.title(\"Product Category\", y=1.08)\n",
    "plt.show()"
   ]
  },
  {
   "cell_type": "markdown",
   "id": "3457b30f",
   "metadata": {},
   "source": [
    "### 상품 카테고리별 구매자 및 상품 분포도"
   ]
  },
  {
   "cell_type": "code",
   "execution_count": null,
   "id": "9c78702d",
   "metadata": {},
   "outputs": [],
   "source": [
    "# 총 구매자 숫자와 상품 갯수 확인\n",
    "customers = df.groupby([\"product_category\"]).nunique()[\"customer_id\"].reset_index().rename(columns={'customer_id': 'unique_customers'})\n",
    "products = df.groupby([\"product_category\"]).nunique()[\"product_id\"].reset_index().rename(columns={'product_id': 'unique_products'})\n",
    "customers_products = pd.merge(customers, products, on=\"product_category\")\n",
    "customers_products"
   ]
  },
  {
   "cell_type": "code",
   "execution_count": null,
   "id": "ce4068da",
   "metadata": {},
   "outputs": [],
   "source": [
    "# 총 구매자 숫자와 상품 갯수를 Bar 차트로 표현\n",
    "y1 = customers_products[\"unique_customers\"].max()\n",
    "y2 = customers_products[\"unique_products\"].max()\n",
    "y_max = y1 if y1>y2 else y2\n",
    "y_max = np.ceil(y_max/10000)*10000\n",
    "\n",
    "customers_products.plot(x=\"product_category\", kind=\"bar\", stacked=False,\n",
    "           ylabel=\"\", ylim=(0, y_max),\n",
    "           xlabel=\"\", rot=0)\n",
    "\n",
    "plt.legend(loc=\"center\", bbox_to_anchor=(1.1, 0.8))\n",
    "plt.title(\"Unique Customers and Products \\nby Product Category\", y=1.08)\n",
    "plt.show()"
   ]
  },
  {
   "cell_type": "markdown",
   "id": "0b0694a6",
   "metadata": {},
   "source": [
    "### 별점 분포도"
   ]
  },
  {
   "cell_type": "code",
   "execution_count": null,
   "id": "348177ec",
   "metadata": {},
   "outputs": [],
   "source": [
    "# 별점 점수별 갯수\n",
    "df['star_rating'].value_counts()"
   ]
  },
  {
   "cell_type": "code",
   "execution_count": null,
   "id": "d8165cd6",
   "metadata": {},
   "outputs": [],
   "source": [
    "# 별점 점수별 갯수를 Bar 차트로 표현\n",
    "plt.style.use('fivethirtyeight')\n",
    "df['star_rating'].value_counts().sort_index().plot.bar(rot=0)\n",
    "plt.title(\"Star Rating\", y=1.08)\n",
    "plt.show()"
   ]
  },
  {
   "cell_type": "markdown",
   "id": "6ca25e17",
   "metadata": {},
   "source": [
    "## 희소 행렬(Sparse Matrix) 생성"
   ]
  },
  {
   "cell_type": "markdown",
   "id": "9ea58a81",
   "metadata": {},
   "source": [
    "### 범주형 데이터(Categorical Data)에 One-Hot Encoding 수행"
   ]
  },
  {
   "cell_type": "code",
   "execution_count": null,
   "id": "df099542",
   "metadata": {},
   "outputs": [],
   "source": [
    "ohe = OneHotEncoder(handle_unknown = \"ignore\")\n",
    "ohe_cols = [\"customer_id\", \"product_id\", \"product_category\"]\n",
    "ohe_features = ohe.fit_transform(df[ohe_cols])\n",
    "ohe_features"
   ]
  },
  {
   "cell_type": "code",
   "execution_count": null,
   "id": "d650375f",
   "metadata": {},
   "outputs": [],
   "source": [
    "# 각 카테고리별 고유값 갯수 확인 \n",
    "df['product_category'].nunique() + df['customer_id'].nunique() + df['product_id'].nunique()"
   ]
  },
  {
   "cell_type": "code",
   "execution_count": null,
   "id": "ed96896f",
   "metadata": {},
   "outputs": [],
   "source": [
    "ohe_feature_names = ohe.get_feature_names()\n",
    "df_ohe = pd.DataFrame(data = ohe_features.toarray(), index=range(len(df)), columns=ohe_feature_names)\n",
    "df_ohe"
   ]
  },
  {
   "cell_type": "code",
   "execution_count": null,
   "id": "ee88f9c7",
   "metadata": {},
   "outputs": [],
   "source": [
    "# 전체 데이터셋에서 10%만 샘플링\n",
    "df_frac = df.sample(frac=0.1)\n",
    "df_frac.info()"
   ]
  },
  {
   "cell_type": "code",
   "execution_count": null,
   "id": "745a1a9d",
   "metadata": {},
   "outputs": [],
   "source": [
    "# 각 카테고리별 고유값 갯수 재확인 \n",
    "df_frac['product_category'].nunique() + df_frac['customer_id'].nunique() + df_frac['product_id'].nunique()"
   ]
  },
  {
   "cell_type": "code",
   "execution_count": null,
   "id": "7b7d7081",
   "metadata": {},
   "outputs": [],
   "source": [
    "# One-Hot Encoding 재수행\n",
    "ohe = OneHotEncoder(handle_unknown = \"ignore\")\n",
    "ohe_cols = [\"customer_id\", \"product_id\", \"product_category\"]\n",
    "ohe_features = ohe.fit_transform(df_frac[ohe_cols])\n",
    "ohe_features"
   ]
  },
  {
   "cell_type": "code",
   "execution_count": null,
   "id": "41933f36",
   "metadata": {},
   "outputs": [],
   "source": [
    "ohe_feature_names = ohe.get_feature_names()\n",
    "df_ohe = pd.DataFrame(data = ohe_features.toarray(), index=range(len(df_frac)), columns=ohe_feature_names)\n",
    "df_ohe"
   ]
  },
  {
   "cell_type": "markdown",
   "id": "f595eda6",
   "metadata": {},
   "source": [
    "### 문자열 데이터에 TF-IDF Encoding 수행"
   ]
  },
  {
   "cell_type": "code",
   "execution_count": null,
   "id": "75c1656c",
   "metadata": {},
   "outputs": [],
   "source": [
    "# 2개 미만의 문서에 포함된 문자는 제외\n",
    "vectorizer = TfidfVectorizer(min_df=2)  \n",
    "vectorizer.fit(df_frac[\"product_title\"].unique())\n",
    "tfidf_features = vectorizer.transform(df_frac[\"product_title\"])\n",
    "tfidf_features"
   ]
  },
  {
   "cell_type": "code",
   "execution_count": null,
   "id": "917dd241",
   "metadata": {},
   "outputs": [],
   "source": [
    "tfidf_feature_names = vectorizer.get_feature_names()\n",
    "df_tfidfvect = pd.DataFrame(data = tfidf_features.toarray(), index=range(len(df_frac)), columns=tfidf_feature_names)\n",
    "df_tfidfvect"
   ]
  },
  {
   "cell_type": "markdown",
   "id": "e5f09c69",
   "metadata": {},
   "source": [
    "### 희소 행렬 생성"
   ]
  },
  {
   "cell_type": "code",
   "execution_count": null,
   "id": "004e66ac",
   "metadata": {},
   "outputs": [],
   "source": [
    "# 위에서 인코딩한 데이터셋 통합\n",
    "X = hstack([ohe_features, tfidf_features], format=\"csr\", dtype=\"float32\")\n",
    "X"
   ]
  },
  {
   "cell_type": "code",
   "execution_count": null,
   "id": "c3254477",
   "metadata": {},
   "outputs": [],
   "source": [
    "y = df_frac[\"star_rating\"].values.astype(\"float32\")\n",
    "y"
   ]
  },
  {
   "cell_type": "code",
   "execution_count": null,
   "id": "4e33ac1e",
   "metadata": {},
   "outputs": [],
   "source": [
    "# 희소성 확인\n",
    "total = X.shape[0] * X.shape[1]\n",
    "non_zero = X.nnz\n",
    "sparsity = (total - non_zero) / total\n",
    "\n",
    "print(\"Total elements:\", total)\n",
    "print(\"Non-zero elements:\", non_zero)\n",
    "print(\"Sparsity:\", round(sparsity*100, 4), \"%\")"
   ]
  },
  {
   "cell_type": "markdown",
   "id": "2f503abd",
   "metadata": {},
   "source": [
    "## 데이터를 용도에 맞게 분리(Training, Test) "
   ]
  },
  {
   "cell_type": "code",
   "execution_count": null,
   "id": "532fda0e",
   "metadata": {},
   "outputs": [],
   "source": [
    "# 전체 데이터셋의 80%를 학습용으로 20%를 테스트용으로 분리\n",
    "X_train, X_test, y_train, y_test = train_test_split(X, y, test_size=0.2, \n",
    "                                                    random_state=73)           \n",
    "\n",
    "print(\"Shape of X_train:\", X_train.shape)\n",
    "print(\"Shape of y_train:\", y_train.shape)\n",
    "print(\"\")\n",
    "print(\"Shape of X_test:\", X_test.shape)\n",
    "print(\"Shape of y_test:\", y_test.shape)"
   ]
  },
  {
   "cell_type": "markdown",
   "id": "65b6f5e3",
   "metadata": {},
   "source": [
    "## 데이터를 RecordIO 파일로 변환"
   ]
  },
  {
   "cell_type": "code",
   "execution_count": null,
   "id": "48c57761",
   "metadata": {},
   "outputs": [],
   "source": [
    "# RecordIO 파일 생성\n",
    "train_key = \"fm_train.recordio\"\n",
    "test_key = \"fm_test.recordio\"\n",
    "\n",
    "with open(train_key, 'wb') as f:\n",
    "        smac.write_spmatrix_to_sparse_tensor (f, X_train, y_train)\n",
    "        \n",
    "with open(test_key, 'wb') as f:\n",
    "        smac.write_spmatrix_to_sparse_tensor (f, X_test, y_test)"
   ]
  },
  {
   "cell_type": "code",
   "execution_count": null,
   "id": "9524c9a5",
   "metadata": {},
   "outputs": [],
   "source": [
    "# 생성한 RecordIO 파일을 S3로 저장\n",
    "sess = sagemaker.Session()\n",
    "region = sess.boto_region_name\n",
    "bucket = sess.default_bucket()\n",
    "\n",
    "boto3.resource('s3').Bucket(bucket).upload_file(train_key, train_key)\n",
    "boto3.resource('s3').Bucket(bucket).upload_file(test_key, test_key)\n",
    "\n",
    "print(\"SageMaker version:\", sagemaker.__version__)\n",
    "print(\"Region:\", region)\n",
    "print(\"Bucket:\", bucket)\n"
   ]
  },
  {
   "cell_type": "markdown",
   "id": "5943bd67",
   "metadata": {},
   "source": [
    "## 모델 학습"
   ]
  },
  {
   "cell_type": "code",
   "execution_count": null,
   "id": "812c4468",
   "metadata": {},
   "outputs": [],
   "source": [
    "# Sagemaker에 부여된 IAM 역할 불러오기\n",
    "role = sagemaker.get_execution_role()\n",
    "role"
   ]
  },
  {
   "cell_type": "code",
   "execution_count": null,
   "id": "93582941",
   "metadata": {},
   "outputs": [],
   "source": [
    "# 학습에 사용할 컨테이너 불러오기\n",
    "container = sagemaker.image_uris.retrieve(\"factorization-machines\", region=region)\n",
    "container"
   ]
  },
  {
   "cell_type": "code",
   "execution_count": null,
   "id": "25a395aa",
   "metadata": {},
   "outputs": [],
   "source": [
    "# Training Job 설정\n",
    "fm = sagemaker.estimator.Estimator(    \n",
    "    container,\n",
    "    role,\n",
    "    instance_count = 1,\n",
    "    instance_type = \"ml.m5.xlarge\",\n",
    "    output_path = f\"s3://{bucket}\",\n",
    "    sagemaker_session = sess\n",
    ")"
   ]
  },
  {
   "cell_type": "code",
   "execution_count": null,
   "id": "af571676",
   "metadata": {},
   "outputs": [],
   "source": [
    "# Hyperparameter 설정\n",
    "fm.set_hyperparameters(\n",
    "    feature_dim = X.shape[1],\n",
    "    num_factors = 64,  \n",
    "    predictor_type = \"regressor\",\n",
    "    epochs = 50,      \n",
    "    mini_batch_size = 1000,  \n",
    ")\n",
    "\n",
    "fm.hyperparameters()"
   ]
  },
  {
   "cell_type": "code",
   "execution_count": null,
   "id": "d964e8e8",
   "metadata": {
    "scrolled": true
   },
   "outputs": [],
   "source": [
    "# 학습 시작\n",
    "fm.fit({'train': f\"s3://{bucket}/{train_key}\", 'test': f\"s3://{bucket}/{test_key}\"})"
   ]
  },
  {
   "cell_type": "code",
   "execution_count": null,
   "id": "23ef52a7",
   "metadata": {},
   "outputs": [],
   "source": [
    "# 완료된 Training Job 정보 확인\n",
    "job_name = fm.latest_training_job.job_name\n",
    "\n",
    "sagemaker_boto_client = boto3.Session(region_name=region).client(\"sagemaker\")\n",
    "training_job_info = sagemaker_boto_client.describe_training_job(TrainingJobName = job_name)\n",
    "training_job_info"
   ]
  },
  {
   "cell_type": "markdown",
   "id": "54ea0419",
   "metadata": {},
   "source": [
    "## 모델 배포"
   ]
  },
  {
   "cell_type": "code",
   "execution_count": null,
   "id": "8000eeb0",
   "metadata": {},
   "outputs": [],
   "source": [
    "# Request 및 Response가 JSON으로 처리되도록 희소행렬을 Json으로 변환할 Serializer 생성 \n",
    "from sagemaker.deserializers import JSONDeserializer\n",
    "from sagemaker.serializers import JSONSerializer\n",
    "import json\n",
    "\n",
    "class fm_json_serializer(JSONSerializer):\n",
    "    def serialize(self, data):\n",
    "        js = {\"instances\": []}\n",
    "        for row in data:\n",
    "            js[\"instances\"].append({\"features\": row.tolist()})\n",
    "        return json.dumps(js)"
   ]
  },
  {
   "cell_type": "code",
   "execution_count": null,
   "id": "7e3219f7",
   "metadata": {},
   "outputs": [],
   "source": [
    "# 모델 배포\n",
    "predictor = fm.deploy(initial_instance_count = 1,\n",
    "                             instance_type = \"ml.m5.xlarge\",\n",
    "                             endpoint_name = job_name,\n",
    "                             serializer = fm_json_serializer(),\n",
    "                             deserializer = JSONDeserializer(),\n",
    "                            )"
   ]
  },
  {
   "cell_type": "markdown",
   "id": "2357860f",
   "metadata": {},
   "source": [
    "## 모델 추론"
   ]
  },
  {
   "cell_type": "markdown",
   "id": "63728522",
   "metadata": {},
   "source": [
    "### 단골 고객 확인"
   ]
  },
  {
   "cell_type": "code",
   "execution_count": null,
   "id": "1eb445a1",
   "metadata": {},
   "outputs": [],
   "source": [
    "### 리뷰를 많이 작성한 고객순으로 고객 목록 확인\n",
    "df_frac.groupby(\"customer_id\").count()[\"product_id\"].sort_values(ascending=False).head(20)"
   ]
  },
  {
   "cell_type": "code",
   "execution_count": null,
   "id": "c53a0d1a",
   "metadata": {},
   "outputs": [],
   "source": [
    "### 리뷰를 가장 많이 작성한 고객의 리뷰 확인\n",
    "df_frac[df_frac[\"customer_id\"] == 20602687]  "
   ]
  },
  {
   "cell_type": "markdown",
   "id": "8947bd30",
   "metadata": {},
   "source": [
    "### 인기상품 목록"
   ]
  },
  {
   "cell_type": "code",
   "execution_count": null,
   "id": "a96963c0",
   "metadata": {},
   "outputs": [],
   "source": [
    "# 가장 많은 고객이 리뷰한 상품순으로 상품 확인\n",
    "trending = df_frac.copy()\n",
    "trending = (trending.groupby([\"product_id\", \"product_title\", \"product_category\"])\n",
    "            .nunique()[\"customer_id\"]\n",
    "            .sort_values(ascending=False)\n",
    "            .reset_index()            \n",
    "           )            \n",
    "trending = trending.rename(columns={'customer_id': 'unique_customers'})\n",
    "trending"
   ]
  },
  {
   "cell_type": "markdown",
   "id": "1a0c4c5c",
   "metadata": {},
   "source": [
    "### 각 카테고리별 Top 5 인기상품을 추천상품군에 포함"
   ]
  },
  {
   "cell_type": "code",
   "execution_count": null,
   "id": "0b056fd3",
   "metadata": {},
   "outputs": [],
   "source": [
    "trending_sw = trending[trending[\"product_category\"]==\"Software\"].head(5)\n",
    "trending_me = trending[trending[\"product_category\"]==\"Mobile_Electronics\"].head(5)\n",
    "trending_pool = pd.concat([trending_sw, trending_me], axis=0)\n",
    "trending_pool"
   ]
  },
  {
   "cell_type": "markdown",
   "id": "95e03d6e",
   "metadata": {},
   "source": [
    "### 추론에 사용할 Input 데이터 생성"
   ]
  },
  {
   "cell_type": "code",
   "execution_count": null,
   "id": "12ef4bff",
   "metadata": {},
   "outputs": [],
   "source": [
    "# 고객번호 추가\n",
    "trending_pool[\"customer_id\"] = 20602687\n",
    "trending_pool"
   ]
  },
  {
   "cell_type": "code",
   "execution_count": null,
   "id": "45e015d8",
   "metadata": {},
   "outputs": [],
   "source": [
    "# One-Hot Encoding 수행\n",
    "ohe = OneHotEncoder(handle_unknown = \"ignore\")\n",
    "ohe_cols = [\"customer_id\", \"product_id\", \"product_category\"]\n",
    "ohe.fit(df_frac[ohe_cols])\n",
    "ohe_features = ohe.transform(trending_pool[ohe_cols])\n",
    "ohe_features"
   ]
  },
  {
   "cell_type": "code",
   "execution_count": null,
   "id": "353568ad",
   "metadata": {},
   "outputs": [],
   "source": [
    "# TF-IDF Encoding 수행\n",
    "vectorizer = TfidfVectorizer(min_df=2)\n",
    "vectorizer.fit(df_frac[\"product_title\"].unique())\n",
    "tfidf_features = vectorizer.transform(trending_pool[\"product_title\"])\n",
    "tfidf_features"
   ]
  },
  {
   "cell_type": "code",
   "execution_count": null,
   "id": "5837cc4f",
   "metadata": {},
   "outputs": [],
   "source": [
    "# 위에서 인코딩한 Inpout 데이터 통합\n",
    "X_trending = hstack([ohe_features, tfidf_features], format=\"csr\", dtype=\"float32\")\n",
    "X_trending"
   ]
  },
  {
   "cell_type": "code",
   "execution_count": null,
   "id": "3a3268af",
   "metadata": {},
   "outputs": [],
   "source": [
    "# Input 데이터 확인\n",
    "X_trending.toarray()"
   ]
  },
  {
   "cell_type": "markdown",
   "id": "f4d1fa85",
   "metadata": {},
   "source": [
    "### 선택된 고객에 추천상품군에 있는 상품들에 부여할 별점 예측"
   ]
  },
  {
   "cell_type": "code",
   "execution_count": null,
   "id": "d8cf8160",
   "metadata": {},
   "outputs": [],
   "source": [
    "result = predictor.predict(X_trending.toarray())\n",
    "result"
   ]
  },
  {
   "cell_type": "code",
   "execution_count": null,
   "id": "dbdac3e5",
   "metadata": {},
   "outputs": [],
   "source": [
    "predictions = [i[\"score\"] for i in result[\"predictions\"]]\n",
    "predictions"
   ]
  },
  {
   "cell_type": "code",
   "execution_count": null,
   "id": "6aecd507",
   "metadata": {},
   "outputs": [],
   "source": [
    "index_array = np.array(predictions).argsort()\n",
    "index_array"
   ]
  },
  {
   "cell_type": "code",
   "execution_count": null,
   "id": "5745ba40",
   "metadata": {},
   "outputs": [],
   "source": [
    "products = ohe.inverse_transform(ohe_features)[:, 1]\n",
    "products"
   ]
  },
  {
   "cell_type": "markdown",
   "id": "686fd063",
   "metadata": {},
   "source": [
    "### 선택된 고객이 좋아할만한 3개지 상품 추천"
   ]
  },
  {
   "cell_type": "code",
   "execution_count": null,
   "id": "a343dd30",
   "metadata": {},
   "outputs": [],
   "source": [
    "top_3_recommended = np.take_along_axis(products, index_array, axis=0)[: -4 : -1]\n",
    "top_3_recommended"
   ]
  },
  {
   "cell_type": "code",
   "execution_count": null,
   "id": "46091e9a",
   "metadata": {},
   "outputs": [],
   "source": [
    "# Array를 Dataframe으로 변환\n",
    "df_3 = pd.DataFrame(top_3_recommended, columns=[\"product_id\"])\n",
    "df_3"
   ]
  },
  {
   "cell_type": "code",
   "execution_count": null,
   "id": "0841c35d",
   "metadata": {},
   "outputs": [],
   "source": [
    "# 상품 상세정보 추가\n",
    "df_recommend = pd.merge(df_3, trending_pool, on=\"product_id\")\n",
    "columns = [\"product_id\", \"product_title\", \"product_category\"]\n",
    "df_recommend = df_recommend[columns]\n",
    "df_recommend"
   ]
  },
  {
   "cell_type": "markdown",
   "id": "deb650fb",
   "metadata": {},
   "source": [
    "## 추론 서버 삭제"
   ]
  },
  {
   "cell_type": "code",
   "execution_count": null,
   "id": "bc11c8e3",
   "metadata": {},
   "outputs": [],
   "source": [
    "# predictor.delete_endpoint()"
   ]
  }
 ],
 "metadata": {
  "kernelspec": {
   "display_name": "conda_python3",
   "language": "python",
   "name": "conda_python3"
  },
  "language_info": {
   "codemirror_mode": {
    "name": "ipython",
    "version": 3
   },
   "file_extension": ".py",
   "mimetype": "text/x-python",
   "name": "python",
   "nbconvert_exporter": "python",
   "pygments_lexer": "ipython3",
   "version": "3.6.13"
  }
 },
 "nbformat": 4,
 "nbformat_minor": 5
}
